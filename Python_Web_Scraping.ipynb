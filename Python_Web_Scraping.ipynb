{
 "cells": [
  {
   "cell_type": "markdown",
   "id": "2c7c361d",
   "metadata": {},
   "source": [
    "# Data Engineering Scripts"
   ]
  },
  {
   "cell_type": "markdown",
   "id": "dc13149a",
   "metadata": {},
   "source": [
    "In this script, I scraped a list of available sign-in partners from canada.ca website and saved the list in a csv file."
   ]
  },
  {
   "cell_type": "markdown",
   "id": "167bf982",
   "metadata": {},
   "source": [
    "## Import Libraries"
   ]
  },
  {
   "cell_type": "code",
   "execution_count": 2,
   "id": "534d01fd",
   "metadata": {},
   "outputs": [],
   "source": [
    "import glob\n",
    "import requests\n",
    "import pandas as pd\n",
    "import xml.etree.ElementTree as ET\n",
    "from bs4 import BeautifulSoup as soup"
   ]
  },
  {
   "cell_type": "markdown",
   "id": "3cbf8a39",
   "metadata": {},
   "source": [
    "## Web Scrapping"
   ]
  },
  {
   "cell_type": "markdown",
   "id": "b21dcb52",
   "metadata": {},
   "source": [
    "Get list of sign-in partners from canada.ca website"
   ]
  },
  {
   "cell_type": "code",
   "execution_count": 3,
   "id": "ecc9300c",
   "metadata": {
    "scrolled": false
   },
   "outputs": [
    {
     "data": {
      "text/html": [
       "<div>\n",
       "<style scoped>\n",
       "    .dataframe tbody tr th:only-of-type {\n",
       "        vertical-align: middle;\n",
       "    }\n",
       "\n",
       "    .dataframe tbody tr th {\n",
       "        vertical-align: top;\n",
       "    }\n",
       "\n",
       "    .dataframe thead th {\n",
       "        text-align: right;\n",
       "    }\n",
       "</style>\n",
       "<table border=\"1\" class=\"dataframe\">\n",
       "  <thead>\n",
       "    <tr style=\"text-align: right;\">\n",
       "      <th></th>\n",
       "      <th>Full list of Sign-in Partners</th>\n",
       "    </tr>\n",
       "  </thead>\n",
       "  <tbody>\n",
       "    <tr>\n",
       "      <th>0</th>\n",
       "      <td>Affinity Credit Union</td>\n",
       "    </tr>\n",
       "    <tr>\n",
       "      <th>1</th>\n",
       "      <td>Alberta Treasury Branches</td>\n",
       "    </tr>\n",
       "    <tr>\n",
       "      <th>2</th>\n",
       "      <td>BMO  Financial Group</td>\n",
       "    </tr>\n",
       "    <tr>\n",
       "      <th>3</th>\n",
       "      <td>CIBC Canadian Imperial Bank of Commerce</td>\n",
       "    </tr>\n",
       "    <tr>\n",
       "      <th>4</th>\n",
       "      <td>Coast Capital Savings</td>\n",
       "    </tr>\n",
       "    <tr>\n",
       "      <th>5</th>\n",
       "      <td>Conexus Credit Union</td>\n",
       "    </tr>\n",
       "    <tr>\n",
       "      <th>6</th>\n",
       "      <td>Desjardins Group (Caisse Alliance, Caisses Pop...</td>\n",
       "    </tr>\n",
       "    <tr>\n",
       "      <th>7</th>\n",
       "      <td>Libro Credit Union</td>\n",
       "    </tr>\n",
       "    <tr>\n",
       "      <th>8</th>\n",
       "      <td>National Bank of Canada</td>\n",
       "    </tr>\n",
       "    <tr>\n",
       "      <th>9</th>\n",
       "      <td>RBC Royal Bank</td>\n",
       "    </tr>\n",
       "    <tr>\n",
       "      <th>10</th>\n",
       "      <td>Scotiabank</td>\n",
       "    </tr>\n",
       "    <tr>\n",
       "      <th>11</th>\n",
       "      <td>Servus Credit Union</td>\n",
       "    </tr>\n",
       "    <tr>\n",
       "      <th>12</th>\n",
       "      <td>Simplii Financial</td>\n",
       "    </tr>\n",
       "    <tr>\n",
       "      <th>13</th>\n",
       "      <td>Tangerine</td>\n",
       "    </tr>\n",
       "    <tr>\n",
       "      <th>14</th>\n",
       "      <td>TD Bank Group</td>\n",
       "    </tr>\n",
       "    <tr>\n",
       "      <th>15</th>\n",
       "      <td>Vancity</td>\n",
       "    </tr>\n",
       "  </tbody>\n",
       "</table>\n",
       "</div>"
      ],
      "text/plain": [
       "                        Full list of Sign-in Partners\n",
       "0                               Affinity Credit Union\n",
       "1                           Alberta Treasury Branches\n",
       "2                                BMO  Financial Group\n",
       "3             CIBC Canadian Imperial Bank of Commerce\n",
       "4                               Coast Capital Savings\n",
       "5                                Conexus Credit Union\n",
       "6   Desjardins Group (Caisse Alliance, Caisses Pop...\n",
       "7                                  Libro Credit Union\n",
       "8                             National Bank of Canada\n",
       "9                                      RBC Royal Bank\n",
       "10                                         Scotiabank\n",
       "11                                Servus Credit Union\n",
       "12                                  Simplii Financial\n",
       "13                                          Tangerine\n",
       "14                                      TD Bank Group\n",
       "15                                            Vancity"
      ]
     },
     "execution_count": 3,
     "metadata": {},
     "output_type": "execute_result"
    }
   ],
   "source": [
    "# Connect to site and download all website data\n",
    "website_data = requests.get('https://www.canada.ca/en/employment-social-development/programs/ei/ei-list/ei-roe/access-roe.html').text\n",
    "data = soup(website_data, 'lxml')\n",
    "\n",
    "# Extract required information and store in a variable\n",
    "# scrape title of table of interest\n",
    "title = data.find('div', class_='mwsgeneric-base-html parbase section').find('section', class_=False).find_all('p')[1].text\n",
    "\n",
    "# create empty dataframe to host list and assign column name as title of table\n",
    "list = pd.DataFrame(columns=[title])\n",
    "\n",
    "# scrape list information and store list in dataframe\n",
    "for item in data.find('div', class_='col-md-6').find_all('li'):\n",
    "    list = list.append({title:item.text}, ignore_index=True)\n",
    "\n",
    "# print list\n",
    "list"
   ]
  },
  {
   "cell_type": "markdown",
   "id": "c467ff20",
   "metadata": {},
   "source": [
    "## Load to a CSV File"
   ]
  },
  {
   "cell_type": "code",
   "execution_count": 4,
   "id": "eed7a269",
   "metadata": {},
   "outputs": [],
   "source": [
    "list.to_csv('Sign-in_Partners.csv')"
   ]
  },
  {
   "cell_type": "markdown",
   "id": "db45012d",
   "metadata": {},
   "source": [
    "## Author"
   ]
  },
  {
   "cell_type": "markdown",
   "id": "23b48e8f",
   "metadata": {},
   "source": [
    "Taiwo Fawumi\n",
    "\n",
    "taiwo.fawumi@yahoo.com\n",
    "\n",
    "Published: Nov, 2021"
   ]
  }
 ],
 "metadata": {
  "kernelspec": {
   "display_name": "Python 3",
   "language": "python",
   "name": "python3"
  },
  "language_info": {
   "codemirror_mode": {
    "name": "ipython",
    "version": 3
   },
   "file_extension": ".py",
   "mimetype": "text/x-python",
   "name": "python",
   "nbconvert_exporter": "python",
   "pygments_lexer": "ipython3",
   "version": "3.8.8"
  }
 },
 "nbformat": 4,
 "nbformat_minor": 5
}
